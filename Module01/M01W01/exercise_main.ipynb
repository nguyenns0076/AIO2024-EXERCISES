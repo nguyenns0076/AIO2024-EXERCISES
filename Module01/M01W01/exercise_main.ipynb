{
 "cells": [
  {
   "cell_type": "code",
   "execution_count": 8,
   "metadata": {},
   "outputs": [],
   "source": [
    "# Exercise_01: function thực hiện đánh giá classification model bằng F1-Score.\n",
    "\n",
    "def precision_calculate(tp, fp):\n",
    "    if not isinstance(tp, int):\n",
    "        print(\"TP \" + str(tp) + \" must me int!\\n\")\n",
    "        return\n",
    "    if not isinstance(fp, int):\n",
    "        print(\"FP \" + str(fp) + \" must me int!\\n\")\n",
    "        return\n",
    "    if tp <= 0 or fp <= 0:\n",
    "        print(\"TP and FP and FN must greater then zero\\n\")\n",
    "        return\n",
    "    return tp/(tp+fp)\n",
    "\n",
    "\n",
    "def recall_calculate(tp, fn):\n",
    "    if not isinstance(tp, int):\n",
    "        print(\"TP \" + str(tp) + \" must me int!\\n\")\n",
    "        return\n",
    "    if not isinstance(fn, int):\n",
    "        print(\"FN \" + str(fn) + \" must me int!\\n\")\n",
    "        return\n",
    "    if tp <= 0 or fn <= 0:\n",
    "        print(\"TP and FP and FN must greater then zero\\n\")\n",
    "        return\n",
    "    return tp/(tp+fn)\n",
    "\n",
    "\n",
    "def f1score_calculate(precision, recall):\n",
    "    return 2 * ((precision * recall) / (precision + recall))\n",
    "\n",
    "\n",
    "def exercise_01():\n",
    "    _tp = input(\"Input tp: \")\n",
    "    tp = int(_tp)\n",
    "    _fp = input(\"Input fp: \")\n",
    "    fp = int(_fp)\n",
    "    _fn = input(\"Input fn: \")\n",
    "    fn = int(_fn)\n",
    "\n",
    "    precision = precision_calculate(tp, fp)\n",
    "    if not isinstance(precision, float):\n",
    "        return\n",
    "    print(\"Precision is \" + str(precision) + \"\\n\")\n",
    "\n",
    "    recall = recall_calculate(tp, fn)\n",
    "    if not isinstance(recall, float):\n",
    "        return\n",
    "    print(\"Recall is \" + str(recall) + \"\\n\")\n",
    "\n",
    "    f1score = f1score_calculate(precision, recall)\n",
    "    print(\"F1-score is \" + str(f1score) + \"\\n\")\n",
    "    return f1score"
   ]
  },
  {
   "cell_type": "code",
   "execution_count": 9,
   "metadata": {},
   "outputs": [
    {
     "name": "stdout",
     "output_type": "stream",
     "text": [
      "Precision is 0.3333333333333333\n",
      "\n",
      "Recall is 0.2857142857142857\n",
      "\n",
      "F1-score is 0.30769230769230765\n",
      "\n"
     ]
    },
    {
     "data": {
      "text/plain": [
       "0.30769230769230765"
      ]
     },
     "execution_count": 9,
     "metadata": {},
     "output_type": "execute_result"
    }
   ],
   "source": [
    "exercise_01()"
   ]
  },
  {
   "cell_type": "code",
   "execution_count": 10,
   "metadata": {},
   "outputs": [],
   "source": [
    "import math\n",
    "\n",
    "# Exercise_02: function mô phỏng theo 3 activation function.\n",
    "\n",
    "def is_number(x):\n",
    "    try:\n",
    "        float(x)\n",
    "    except ValueError:\n",
    "        print(\"x must be a number\")\n",
    "        return False\n",
    "    return True\n",
    "\n",
    "\n",
    "def sigmoid_calculate(x):\n",
    "    if is_number(x) is False:\n",
    "        return\n",
    "\n",
    "    _x = float(x)\n",
    "    s = 1 / (1 + math.exp(-_x))\n",
    "    print(f\"sigmoid: f({_x}) = \" + str(s))\n",
    "    return s\n",
    "\n",
    "\n",
    "def relu_calculate(x):\n",
    "    if is_number(x) is False:\n",
    "        return\n",
    "\n",
    "    _x = float(x)\n",
    "    if _x <= 0:\n",
    "        print(f\"relu: f({_x}) = {0}\")\n",
    "        return 0\n",
    "    else:\n",
    "        print(f\"relu: f({_x}) = {_x}\")\n",
    "        return _x\n",
    "\n",
    "\n",
    "def elu_calculate(x):\n",
    "    if is_number(x) is False:\n",
    "        return\n",
    "\n",
    "    _x = float(x)\n",
    "    if _x <= 0:\n",
    "        _elu = 0.01 * (pow(math.e, _x) - 1)\n",
    "        print(f\"elu: f({_x}) = \" + str(_elu))\n",
    "        return _elu\n",
    "    else:\n",
    "        print(f\"elu: f({_x}) = {_x}\")\n",
    "        return _x\n",
    "\n",
    "\n",
    "def exercise_02():\n",
    "    x = input(\"Input x = \")\n",
    "    activation_function = input(\n",
    "        \"Input activation Function ( sigmoid | relu | elu ): \")\n",
    "\n",
    "    if \"sigmoid\" in activation_function:\n",
    "        return sigmoid_calculate(x)\n",
    "    elif \"relu\" in activation_function:\n",
    "        return relu_calculate(x)\n",
    "    elif \"elu\" in activation_function:\n",
    "        return elu_calculate(x)\n",
    "    else:\n",
    "        return print(activation_function + \" is not supportted\")"
   ]
  },
  {
   "cell_type": "code",
   "execution_count": 11,
   "metadata": {},
   "outputs": [
    {
     "name": "stdout",
     "output_type": "stream",
     "text": [
      "sigmoid: f(1.0) = 0.7310585786300049\n"
     ]
    },
    {
     "data": {
      "text/plain": [
       "0.7310585786300049"
      ]
     },
     "execution_count": 11,
     "metadata": {},
     "output_type": "execute_result"
    }
   ],
   "source": [
    "exercise_02()"
   ]
  },
  {
   "cell_type": "code",
   "execution_count": 12,
   "metadata": {},
   "outputs": [],
   "source": [
    "import math\n",
    "import random\n",
    "# Exercise_03: function lựa chọn regression loss function để tính loss\n",
    "\n",
    "def regression_loss_calculate(num_samples, loss_name):\n",
    "    for n in range(num_samples):\n",
    "        predict = random.uniform(0, 10)\n",
    "        target = random.uniform(0, 10)\n",
    "\n",
    "        if \"MAE\" in loss_name:\n",
    "            loss = abs(predict - target)\n",
    "        elif \"MSE\" in loss_name:\n",
    "            loss = pow(predict - target, 2)\n",
    "        elif \"RMSE\" in loss_name:\n",
    "            loss = math.sqrt(pow(predict - target, 2))\n",
    "        else:\n",
    "            return print(loss_name + \" is not supportted\")\n",
    "\n",
    "        print(f\"loss name: {loss_name}, sample: {n}, \\\n",
    "pred: {predict}, target: {target}, loss: {loss}\")\n",
    "\n",
    "    return\n",
    "\n",
    "\n",
    "def exercise_03():\n",
    "    num_samples = input(\"Input number of samples \\\n",
    "( integer number ) which are generated : \")\n",
    "\n",
    "    if num_samples.isnumeric() is False:\n",
    "        return print(\"number of samples must be an integer number\")\n",
    "\n",
    "    loss_name = input(\"Input loss name ( MAE | MSE | RMSE) : \")\n",
    "\n",
    "    regression_loss_calculate(int(num_samples), loss_name)"
   ]
  },
  {
   "cell_type": "code",
   "execution_count": 13,
   "metadata": {},
   "outputs": [
    {
     "name": "stdout",
     "output_type": "stream",
     "text": [
      "loss name: MAE, sample: 0, pred: 7.923538301199543, target: 5.147875465575477, loss: 2.7756628356240665\n",
      "loss name: MAE, sample: 1, pred: 8.82718437004087, target: 3.20331105745588, loss: 5.6238733125849905\n",
      "loss name: MAE, sample: 2, pred: 3.1015575416784813, target: 7.599843455219316, loss: 4.498285913540835\n",
      "loss name: MAE, sample: 3, pred: 7.206260041267527, target: 7.348596195913558, loss: 0.14233615464603133\n",
      "loss name: MAE, sample: 4, pred: 5.939992030063292, target: 9.09508411314682, loss: 3.1550920830835283\n",
      "loss name: MAE, sample: 5, pred: 0.29911722018038156, target: 3.1118621258584755, loss: 2.8127449056780938\n",
      "loss name: MAE, sample: 6, pred: 7.958085262847251, target: 4.364385823906427, loss: 3.593699438940824\n",
      "loss name: MAE, sample: 7, pred: 5.746375072857535, target: 4.837837244431209, loss: 0.9085378284263257\n",
      "loss name: MAE, sample: 8, pred: 6.034895928504296, target: 2.2764941572942377, loss: 3.7584017712100586\n",
      "loss name: MAE, sample: 9, pred: 5.675978584080097, target: 5.533970168364025, loss: 0.14200841571607192\n"
     ]
    }
   ],
   "source": [
    "exercise_03()"
   ]
  },
  {
   "cell_type": "code",
   "execution_count": 14,
   "metadata": {},
   "outputs": [],
   "source": [
    "# Exercise_04: functions để ước lượng các hàm số sau\n",
    "\n",
    "def factorial_calculate(n):\n",
    "    f = 1\n",
    "    if (n == 0 or n == 1):\n",
    "        return f\n",
    "    else:\n",
    "        for i in range(2, n + 1):\n",
    "            f = f * i\n",
    "        return f\n",
    "\n",
    "\n",
    "def approx_sin():\n",
    "    x = input(\"Input radian: \")\n",
    "    _x = float(x)\n",
    "    n = input(\"Input num loop ( num > 0 ): \")\n",
    "    _n = int(n)\n",
    "    sin = 0\n",
    "\n",
    "    for i in range(_n):\n",
    "        temp = (pow(-1, i)) * (pow(_x, 2 * i + 1)) / factorial_calculate(2 * i + 1)  # noqa: E501\n",
    "        sin += temp\n",
    "\n",
    "    print(\"Sin: \" + str(sin))\n",
    "    return sin\n",
    "\n",
    "\n",
    "def approx_cos():\n",
    "    x = input(\"Input radian: \")\n",
    "    _x = float(x)\n",
    "    n = input(\"Input num loop ( num > 0 ): \")\n",
    "    _n = int(n)\n",
    "    cos = 0\n",
    "\n",
    "    for i in range(_n):\n",
    "        temp = ((-1) ** i) * (pow(_x, 2 * i)) / factorial_calculate(2 * i)\n",
    "        cos += temp\n",
    "\n",
    "    print(\"Cos: \" + str(cos))\n",
    "    return cos\n",
    "\n",
    "\n",
    "def approx_sinh():\n",
    "    x = input(\"Input radian: \")\n",
    "    _x = float(x)\n",
    "    n = input(\"Input num loop ( num > 0 ): \")\n",
    "    _n = int(n)\n",
    "    sinh = 0\n",
    "\n",
    "    for i in range(_n):\n",
    "        term = (_x ** (2 * i + 1)) / factorial_calculate(2 * i + 1)\n",
    "        sinh += term\n",
    "    \n",
    "    print(\"Sinh: \" + str(sinh))\n",
    "    return sinh\n",
    "\n",
    "\n",
    "def approx_cosh():\n",
    "    x = input(\"Input radian: \")\n",
    "    _x = float(x)\n",
    "    n = input(\"Input num loop ( num > 0 ): \")\n",
    "    _n = int(n)\n",
    "    cosh = 0\n",
    "\n",
    "    for i in range(_n):\n",
    "        term = (_x ** (2 * i)) / factorial_calculate(2 * i)\n",
    "        cosh += term\n",
    "    \n",
    "    print(\"Cosh: \" + str(cosh))\n",
    "    return cosh"
   ]
  },
  {
   "cell_type": "code",
   "execution_count": 15,
   "metadata": {},
   "outputs": [
    {
     "name": "stdout",
     "output_type": "stream",
     "text": [
      "Sin: 0.001592652393160744\n",
      "Cos: -0.9999987352210833\n",
      "Sinh: 11.530292029865986\n",
      "Cosh: 11.573574824666185\n"
     ]
    },
    {
     "data": {
      "text/plain": [
       "11.573574824666185"
      ]
     },
     "execution_count": 15,
     "metadata": {},
     "output_type": "execute_result"
    }
   ],
   "source": [
    "approx_sin()\n",
    "approx_cos()\n",
    "approx_sinh()\n",
    "approx_cosh()"
   ]
  },
  {
   "cell_type": "code",
   "execution_count": 5,
   "metadata": {},
   "outputs": [],
   "source": [
    "# Exercise_05:  function thực hiện Mean Difference of nth Root Error\n",
    "\n",
    "def md_nre_single_sample_calculate():\n",
    "    y = input(\"Input y: \")\n",
    "    _y = float(y)\n",
    "    y_hat = input(\"Input y_hat: \")\n",
    "    _y_hat = float(y_hat)\n",
    "    n = input(\"Input square root n: \")\n",
    "    _n = int(n)\n",
    "    p = input(\"Input level p: \")\n",
    "    _p = int(p)\n",
    "\n",
    "    md = pow((_y ** (1 / _n)) - (_y_hat ** (1 / _n)), _p)\n",
    "    print(f\"md_nre_single_sample (y = {y}, y_hat = {y_hat}, n = {n}, p = {p})\")\n",
    "    return print(md)\n"
   ]
  },
  {
   "cell_type": "code",
   "execution_count": 7,
   "metadata": {},
   "outputs": [
    {
     "name": "stdout",
     "output_type": "stream",
     "text": [
      "md_nre_single_sample (y = 100, y_hat = 99.5, n = 2, p = 1)\n",
      "0.025031328369998107\n"
     ]
    }
   ],
   "source": [
    "md_nre_single_sample_calculate()"
   ]
  },
  {
   "cell_type": "code",
   "execution_count": 16,
   "metadata": {},
   "outputs": [
    {
     "name": "stdout",
     "output_type": "stream",
     "text": [
      "Precision is 0.4\n",
      "\n",
      "Recall is 0.2857142857142857\n",
      "\n",
      "F1-score is 0.3333333333333333\n",
      "\n",
      "Precision is 0.3333333333333333\n",
      "\n",
      "Recall is 0.2857142857142857\n",
      "\n",
      "F1-score is 0.30769230769230765\n",
      "\n",
      "0 2\n"
     ]
    }
   ],
   "source": [
    "# Câu hỏi 1\n",
    "assert round(exercise_01(), 2) == 0.33\n",
    "print(round(exercise_01()), 2)"
   ]
  },
  {
   "cell_type": "code",
   "execution_count": 17,
   "metadata": {},
   "outputs": [
    {
     "name": "stdout",
     "output_type": "stream",
     "text": [
      "x must be a number\n",
      "True\n",
      "x must be a number\n",
      "False\n"
     ]
    }
   ],
   "source": [
    "# Câu hỏi 2\n",
    "assert is_number(3) == 1.0\n",
    "assert is_number('-2a') == 0.0\n",
    "print(is_number(1))\n",
    "print(is_number('n'))"
   ]
  },
  {
   "cell_type": "code",
   "execution_count": 18,
   "metadata": {},
   "outputs": [
    {
     "name": "stdout",
     "output_type": "stream",
     "text": [
      "0.0\n"
     ]
    }
   ],
   "source": [
    "# Câu 3\n",
    "def c3():\n",
    "    x = -2.0\n",
    "    if x <= 0:\n",
    "        y = 0.0\n",
    "    else:\n",
    "        y = x\n",
    "    print(y)\n",
    "\n",
    "\n",
    "c3()"
   ]
  },
  {
   "cell_type": "code",
   "execution_count": 19,
   "metadata": {},
   "outputs": [
    {
     "name": "stdout",
     "output_type": "stream",
     "text": [
      "sigmoid: f(3.0) = 0.9525741268224334\n",
      "sigmoid: f(2.0) = 0.8807970779778823\n",
      "0.88\n"
     ]
    }
   ],
   "source": [
    "# Câu 4\n",
    "assert round(sigmoid_calculate(3), 2) == 0.95\n",
    "print(round(sigmoid_calculate(2), 2))"
   ]
  },
  {
   "cell_type": "code",
   "execution_count": 20,
   "metadata": {},
   "outputs": [
    {
     "name": "stdout",
     "output_type": "stream",
     "text": [
      "elu: f(1.0) = 1.0\n",
      "elu: f(-1.0) = -0.006321205588285576\n",
      "-0.01\n"
     ]
    }
   ],
   "source": [
    "# Câu 5\n",
    "assert round(elu_calculate(1)) == 1\n",
    "print(round(elu_calculate(-1), 2))"
   ]
  },
  {
   "cell_type": "code",
   "execution_count": 21,
   "metadata": {},
   "outputs": [
    {
     "name": "stdout",
     "output_type": "stream",
     "text": [
      "relu: f(1.0) = 1.0\n",
      "sigmoid: f(3.0) = 0.9525741268224334\n",
      "0.95\n"
     ]
    }
   ],
   "source": [
    "# Câu 6\n",
    "assert round(exercise_02(), 2) == 1.0\n",
    "print(round(exercise_02(), 2))"
   ]
  },
  {
   "cell_type": "code",
   "execution_count": 22,
   "metadata": {},
   "outputs": [
    {
     "name": "stdout",
     "output_type": "stream",
     "text": [
      "7\n"
     ]
    }
   ],
   "source": [
    "# Câu 7\n",
    "def calc_ae(y, y_hat):\n",
    "    return abs(y - y_hat)\n",
    "\n",
    "\n",
    "assert calc_ae(1, 6) == 5\n",
    "print(calc_ae(2, 9))"
   ]
  },
  {
   "cell_type": "code",
   "execution_count": 23,
   "metadata": {},
   "outputs": [
    {
     "name": "stdout",
     "output_type": "stream",
     "text": [
      "1\n"
     ]
    }
   ],
   "source": [
    "# Câu 8\n",
    "def calc_se(y, y_hat):\n",
    "    return (y - y_hat)**2\n",
    "\n",
    "\n",
    "assert calc_se(4, 2) == 4\n",
    "print(calc_se(2, 1))"
   ]
  },
  {
   "cell_type": "code",
   "execution_count": 24,
   "metadata": {},
   "outputs": [
    {
     "name": "stdout",
     "output_type": "stream",
     "text": [
      "Cos: 0.5403023058681397\n",
      "Cos: -0.9999987352210833\n",
      "-1.0\n"
     ]
    }
   ],
   "source": [
    "# Câu 9\n",
    "assert round(approx_cos(), 2) == 0.54\n",
    "print(round(approx_cos(), 2))"
   ]
  },
  {
   "cell_type": "code",
   "execution_count": 25,
   "metadata": {},
   "outputs": [
    {
     "name": "stdout",
     "output_type": "stream",
     "text": [
      "Sin: 0.8414709848078965\n",
      "Sin: 0.001592652393160744\n",
      "0.0016\n"
     ]
    }
   ],
   "source": [
    "# Câu 10\n",
    "assert round(approx_sin(), 4) == 0.8415\n",
    "print(round(approx_sin(), 4))"
   ]
  },
  {
   "cell_type": "code",
   "execution_count": 26,
   "metadata": {},
   "outputs": [
    {
     "name": "stdout",
     "output_type": "stream",
     "text": [
      "Sinh: 1.1752011936438016\n",
      "Sinh: 11.530292029865986\n",
      "11.53\n"
     ]
    }
   ],
   "source": [
    "# Câu 11\n",
    "assert round(approx_sinh(), 2) == 1.18\n",
    "print(round(approx_sinh(), 2))"
   ]
  },
  {
   "cell_type": "code",
   "execution_count": 27,
   "metadata": {},
   "outputs": [
    {
     "name": "stdout",
     "output_type": "stream",
     "text": [
      "Cosh: 1.543080634815244\n",
      "Cosh: 11.573574824666185\n",
      "11.57\n"
     ]
    }
   ],
   "source": [
    "# Câu 12\n",
    "assert round(approx_cosh(), 2) == 1.54\n",
    "print(round(approx_cosh(), 2))"
   ]
  }
 ],
 "metadata": {
  "kernelspec": {
   "display_name": ".venv",
   "language": "python",
   "name": "python3"
  },
  "language_info": {
   "codemirror_mode": {
    "name": "ipython",
    "version": 3
   },
   "file_extension": ".py",
   "mimetype": "text/x-python",
   "name": "python",
   "nbconvert_exporter": "python",
   "pygments_lexer": "ipython3",
   "version": "3.12.3"
  }
 },
 "nbformat": 4,
 "nbformat_minor": 2
}
